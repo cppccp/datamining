{
 "cells": [
  {
   "attachments": {},
   "cell_type": "markdown",
   "metadata": {},
   "source": [
    "# Movies Dataset from Pirated Sites\n",
    "- id: movie's unique id  电影的id\n",
    "- title: movie's name  电影的标题\n",
    "- storyline: a short description of the movie  # 电影的故事\n",
    "- views: no. of clicks per movie  # 点击量\n",
    "- downloads: no. of downloads per movie  # 下载量\n",
    "- IMDb-rating: rating  # imdb 评分\n",
    "- appropriate_for: R-rated, PG-13, etc  # 分级\n",
    "- language: this can be multiple languages also  # 语言\n",
    "- industry: Hollywood, Bollywood, etc.  # 公司\n",
    "- posted_date: when the movie is posted on the platform  # 平台发布时间\n",
    "- release_date: when the movie is released worldwide  # 电影发行时间\n",
    "- runtime: in minutes  # 电影时长\n",
    "- director: director's name  # 导演\n",
    "- writer: list of all the writers  # 作者"
   ]
  },
  {
   "cell_type": "code",
   "execution_count": 70,
   "metadata": {},
   "outputs": [
    {
     "name": "stdout",
     "output_type": "stream",
     "text": [
      "['Unnamed: 0', 'IMDb-rating', 'appropriate_for', 'director', 'downloads', 'id', 'industry', 'language', 'posted_date', 'release_date', 'run_time', 'storyline', 'title', 'views', 'writer']\n",
      "[[0 4.8 'R' 'John Swab' '304' 372092 'Hollywood / English' 'English'\n",
      "  '20 Feb, 2023' 'Jan 28 2023' '105'\n",
      "  'Doc\\r\\n facilitates a fragile truce between the Governor and Cartel, trading \\r\\nprosecutorial leniency for finance. With no more truce, Doc is left to \\r\\nfend for himself and protect the one untainted thing in his life: his \\r\\ndaughter, Little Dixie.'\n",
      "  'Little Dixie' '2,794' 'John Swab']\n",
      " [1 6.4 'TV-PG' 'Paul Ziller' '73' 372091 'Hollywood / English' 'English'\n",
      "  '20 Feb, 2023' 'Feb 05 2023' '84'\n",
      "  'Caterer\\r\\n Goldy Berry reunites with detective Tom Schultz when a realtor is \\r\\nmurdered. As they uncover personal and professional rivalries, they \\r\\nrealize the culprit is closer than expected.'\n",
      "  'Grilling Season: A Curious Caterer Mystery' '1,002'\n",
      "  'John Christian Plummer']]\n"
     ]
    }
   ],
   "source": [
    "import pandas as pd\n",
    "\n",
    "data = pd.read_csv('movies_dataset.csv')\n",
    "columns = data.columns.tolist()\n",
    "print(columns)  # 打印出数据的列\n",
    "print(data.values[:2]) # 打印出前5列"
   ]
  },
  {
   "attachments": {},
   "cell_type": "markdown",
   "metadata": {},
   "source": [
    "可以看出 'IMDb-rating','downloads','run_time','views'为数值型数据，其余为标称数据"
   ]
  },
  {
   "cell_type": "code",
   "execution_count": 71,
   "metadata": {},
   "outputs": [],
   "source": [
    "# 进行数据预处理\n",
    "# 1.对于run_time存在 1h22min这样的表述\n",
    "import re\n",
    "for index, row in enumerate(data['run_time']):\n",
    "    if isinstance(row, int):\n",
    "        data.loc[index, 'run_time'] = float(row)\n",
    "    elif isinstance(row, str):\n",
    "        h, m = 0, 0\n",
    "        row = row.replace(' ', '').replace('min', 'm')\n",
    "        if re.match(r'^\\d{1,}$', row):  # 105:\n",
    "            m = row\n",
    "        elif re.match(r'^\\d{1,}h\\d{1,}m$', row):  # 1h22min\n",
    "            h = row.split('h')[0]\n",
    "            m = row.split('h')[1].split('m')[0]\n",
    "        elif re.match(r'^\\d{1,}m$', row): # 188m\n",
    "            m = row.split('m')[0]\n",
    "        elif re.match(r'^\\d{1,}h$', row):  # 2h\n",
    "            h = row.split('h')[0]\n",
    "        else:\n",
    "            print(row)\n",
    "            break\n",
    "        data.loc[index, 'run_time'] = float(int(h)*60+int(m))"
   ]
  },
  {
   "cell_type": "code",
   "execution_count": 72,
   "metadata": {},
   "outputs": [],
   "source": [
    "# 对IMDB_rating进行预处理，转化成为float类型的数据\n",
    "for index, row in enumerate(data['IMDb-rating']):\n",
    "    if not isinstance(row, float):\n",
    "        data.loc[index, 'IMDB-rating'] = float(row)"
   ]
  },
  {
   "cell_type": "code",
   "execution_count": 73,
   "metadata": {},
   "outputs": [],
   "source": [
    "# 对 dowloads 进行处理，转化成 float 类型数据\n",
    "# 1,425\n",
    "for index, row in enumerate(data['downloads']):  \n",
    "    if not isinstance(row, float):\n",
    "        row = row.replace(',', '')\n",
    "        data.loc[index, 'downloads'] = float(row)"
   ]
  },
  {
   "cell_type": "code",
   "execution_count": 74,
   "metadata": {},
   "outputs": [],
   "source": [
    "# 对 views 进行预处理，转化成float 类型的数据\n",
    "# 2,794\n",
    "for index, row in enumerate(data['views']):\n",
    "    if not isinstance(row, float):\n",
    "        row = row.replace(',', '')\n",
    "        data.loc[index, 'views'] = float(row)"
   ]
  },
  {
   "cell_type": "code",
   "execution_count": 75,
   "metadata": {},
   "outputs": [
    {
     "name": "stdout",
     "output_type": "stream",
     "text": [
      "DataType: IMDb-rating, MIN: 1.100, Q1: 4.800, Mean: 5.700, Q3: 6.600, MAX: 9.900, 缺失数量: 841\n",
      "DataType: downloads, MIN: 0.000, Q1: 855.000, Mean: 2716.000, Q3: 10080.000, MAX: 391272.000, 缺失数量: 1\n",
      "DataType: run_time, MIN: 2.000, Q1: 90.000, Mean: 100.000, Q3: 117.000, MAX: 321.000, 缺失数量: 1768\n",
      "DataType: views, MIN: 667.000, Q1: 7571.000, Mean: 15222.000, Q3: 36580.000, MAX: 1638533.000, 缺失数量: 1\n"
     ]
    }
   ],
   "source": [
    "import math\n",
    "def Q5_analysis(data, column_name): # 进行5数分析\n",
    "    data = data.tolist()\n",
    "    blank_cnt = 0\n",
    "    data_proc = []\n",
    "    for each_data in data:\n",
    "        if math.isnan(each_data):  # 空数据为 non\n",
    "            blank_cnt += 1\n",
    "        else:\n",
    "            data_proc.append(each_data)\n",
    "    data = data_proc\n",
    "    data.sort()\n",
    "    length = len(data)\n",
    "    Q = length>>2\n",
    "    Q1 = data[Q]\n",
    "    Q3 = data[-Q]\n",
    "    mn = data[0]\n",
    "    mx = data[-1]\n",
    "    mean = data[length>>1] if length&1 else (data[length>>1]+data[length//2-1])/2\n",
    "    print(f'DataType: {column_name}, MIN: {mn:.3f}, Q1: {Q1:.3f}, Mean: {mean:.3f}, Q3: {Q3:.3f}, MAX: {mx:.3f}, 缺失数量: {blank_cnt}')\n",
    "\n",
    "digital_type = ['IMDb-rating','downloads','run_time','views']\n",
    "\n",
    "for column_name in digital_type:\n",
    "    column_data = data[column_name]\n",
    "    Q5_analysis(column_data, column_name)"
   ]
  },
  {
   "attachments": {},
   "cell_type": "markdown",
   "metadata": {},
   "source": [
    "上面过程中分析了四种数值型类型的最小值、Q1、平均值、Q3、最大值。其中run_time的缺失了1768条数据，IMDb-rating缺失了841条数据。\n",
    "下面将统计标称数据的频率和可能的取值。"
   ]
  },
  {
   "cell_type": "code",
   "execution_count": 76,
   "metadata": {},
   "outputs": [
    {
     "name": "stdout",
     "output_type": "stream",
     "text": [
      "标称属性: id, 类别数量：17086\n",
      "[(372090, 402), (371877, 402), (371744, 402), (372092, 202), (371991, 202)]\n",
      "标称属性: title, 类别数量：16573\n",
      "[('Vaathi', 402), ('The Girl Who Escaped: The Kara Robinson Story', 402), ('Who Invited Charlie?', 402), ('Little Dixie', 202), ('The Inspection', 202)]\n",
      "标称属性: appropriate_for, 类别数量：22\n",
      "[(nan, 9476), ('R', 4384), ('Not Rated', 2142), ('PG-13', 1968), ('PG', 886)]\n",
      "标称属性: language, 类别数量：1169\n",
      "[('English', 12657), ('Hindi', 2558), (nan, 542), ('English,Spanish', 391), ('Punjabi', 310)]\n",
      "标称属性: industry, 类别数量：11\n",
      "[('Hollywood / English', 14649), ('Bollywood / Indian', 2645), ('Tollywood', 1172), ('Anime / Kids', 1049), ('Wrestling', 433)]\n",
      "标称属性: director, 类别数量：9673\n",
      "[(nan, 1938), ('Venky Atluri', 405), ('Simone Stock', 403), ('Xavier Manrique', 403), ('John Swab', 205)]\n",
      "标称属性: writer, 类别数量：13604\n",
      "[(nan, 2192), ('Nicholas Schutt', 403), ('Venky Atluri', 402), ('Haley Harris', 402), ('John Swab', 205)]\n"
     ]
    }
   ],
   "source": [
    "text_types = ['id','title', 'appropriate_for', 'language', 'industry', 'director', 'writer']  # 所有的标称\n",
    "\n",
    "from collections import Counter\n",
    "def counter(column_data, column_name):\n",
    "    counter = Counter(column_data.tolist())\n",
    "    length = len(counter)\n",
    "    # 打印出前5最高的频数\n",
    "    print(f\"标称属性: {column_name}, 类别数量：{length}\")\n",
    "    print(counter.most_common()[:5])\n",
    "\n",
    "for column_name in text_types:\n",
    "    column_data = data[column_name]\n",
    "    counter(column_data, column_name)"
   ]
  },
  {
   "attachments": {},
   "cell_type": "markdown",
   "metadata": {},
   "source": [
    "# 3.1 数据可视化\n",
    "采用直方图、盒图来可视化数据，检查数据分布和离群点"
   ]
  },
  {
   "cell_type": "code",
   "execution_count": 77,
   "metadata": {},
   "outputs": [
    {
     "data": {
      "image/png": "[encoded data removed]",
      "text/plain": [
       "<matplotlib.figure.Figure at 0x7f3b38341b70>"
      ]
     },
     "metadata": {
      "needs_background": "light"
     },
     "output_type": "display_data"
    }
   ],
   "source": [
    "# 使用直方图来统计各种类型的电影的数量\n",
    "counter = Counter(data['appropriate_for'])\n",
    "xs, ys = [], []\n",
    "for key,value in counter.most_common():\n",
    "    xs.append(key)\n",
    "    ys.append(value)\n",
    "\n",
    "from matplotlib import pyplot as plt \n",
    "\n",
    "fig, ax = plt.subplots(figsize=(25,5))\n",
    "ax.bar(x=range(len(xs)), height=ys)\n",
    "ax.set_xticks(range(len(xs)))\n",
    "ax.set_xticklabels(xs)\n",
    "plt.show()"
   ]
  },
  {
   "attachments": {},
   "cell_type": "markdown",
   "metadata": {},
   "source": [
    "可以看出电影限制级别为nan的电影最多，其次是R级，18+级别的最少。"
   ]
  },
  {
   "cell_type": "code",
   "execution_count": 78,
   "metadata": {},
   "outputs": [
    {
     "data": {
      "image/png": "[encoded data removed]",
      "text/plain": [
       "<matplotlib.figure.Figure at 0x7f3b35d89080>"
      ]
     },
     "metadata": {
      "needs_background": "light"
     },
     "output_type": "display_data"
    },
    {
     "name": "stdout",
     "output_type": "stream",
     "text": [
      "电影名：Gangs of Wasseypur 2, 时长：321.0\n",
      "电影名：Gangs of Wasseypur, 时长：321.0\n"
     ]
    }
   ],
   "source": [
    "# 使用盒图来统计电影的时长\n",
    "run_time = data['run_time']\n",
    "run_time = [t for t in run_time if not math.isnan(t)]\n",
    "fig, ax = plt.subplots()\n",
    "ax.boxplot(run_time)\n",
    "plt.show()\n",
    "for tt, rt in zip(data['title'], data['run_time']):\n",
    "    if rt > 300: # 找出时长在300分钟以上的电影\n",
    "        print(f'电影名：{tt}, 时长：{rt}')"
   ]
  },
  {
   "attachments": {},
   "cell_type": "markdown",
   "metadata": {},
   "source": [
    "可以看出电影中存在一个时长超过300分钟的离群点，为Ganga of Wasseypur2"
   ]
  },
  {
   "attachments": {},
   "cell_type": "markdown",
   "metadata": {},
   "source": [
    "## 3.2 数据缺失的处理\n",
    "要求：\n",
    "观察数据集中缺失数据，分析其缺失的原因。分别使用下列四种策略对缺失值进行处理:\n",
    "\n",
    "- 将缺失部分剔除\n",
    "- 用最高频率值来填补缺失值\n",
    "- 通过属性的相关关系来填补缺失值\n",
    "- 通过数据对象之间的相似性来填补缺失值\n",
    "注意：在处理后完成，要对比新旧数据集的差异。\n",
    "\n",
    "通过前面的分析，数值型数据IMDb-rating和run_time中存在大量空值，猜测IMDb-rating出现空值的原因可能是IMDb平台未收录相关电影。而run_time出现空值的原因可能是工作人员未录入相关的电影时长。下面采用要求的四种方法来试图填补IMDb-rating的空值。并分析处理前后电影IMDb-rating的5数特征。\n"
   ]
  },
  {
   "cell_type": "code",
   "execution_count": 79,
   "metadata": {},
   "outputs": [
    {
     "name": "stdout",
     "output_type": "stream",
     "text": [
      "MIN: 1.100, Q1: 4.700, Mean: 5.700, Q3: 6.500, MAX: 9.900\n"
     ]
    },
    {
     "data": {
      "image/png": "[encoded data removed]",
      "text/plain": [
       "<matplotlib.figure.Figure at 0x7f3b3647e320>"
      ]
     },
     "metadata": {
      "needs_background": "light"
     },
     "output_type": "display_data"
    }
   ],
   "source": [
    "# 通过将缺失部分剔除来计算电影评分的Q5数据\n",
    "# 对相同id的电影进行去重\n",
    "def Q5_test(data): # 进行5数分析\n",
    "    data.sort()\n",
    "    length = len(data)\n",
    "    Q = length>>2\n",
    "    Q1 = data[Q]\n",
    "    Q3 = data[-Q]\n",
    "    mn = data[0]\n",
    "    mx = data[-1]\n",
    "    mean = data[length>>1] if length&1 else (data[length>>1]+data[length//2-1])/2\n",
    "    print(f'MIN: {mn:.3f}, Q1: {Q1:.3f}, Mean: {mean:.3f}, Q3: {Q3:.3f}, MAX: {mx:.3f}')\n",
    "\n",
    "id_score = {}  # id->score\n",
    "for id, score in zip(data['id'], data['IMDb-rating']):\n",
    "    if not math.isnan(score):\n",
    "        id_score[id] = score\n",
    "movie_scores = list(id_score.values())\n",
    "Q5_test(data=movie_scores)\n",
    "fig, ax = plt.subplots()\n",
    "ax.boxplot(movie_scores)\n",
    "plt.show()"
   ]
  },
  {
   "cell_type": "code",
   "execution_count": 88,
   "metadata": {},
   "outputs": [
    {
     "name": "stdout",
     "output_type": "stream",
     "text": [
      "MIN: 1.100, Q1: 4.800, Mean: 5.700, Q3: 6.500, MAX: 9.900\n"
     ]
    },
    {
     "data": {
      "image/png": "[encoded data removed]",
      "text/plain": [
       "<matplotlib.figure.Figure at 0x7f3b38fe5e80>"
      ]
     },
     "metadata": {
      "needs_background": "light"
     },
     "output_type": "display_data"
    }
   ],
   "source": [
    "# 采用众数来替代缺失的值\n",
    "mode = Counter(movie_scores).most_common()[0][0]  # 众数\n",
    "movies_cnt = len( Counter(data['id']) )  # 所有的电影的数量\n",
    "movie_scores_mode = movie_scores + [mode] * ( movies_cnt - len(movie_scores) )\n",
    "Q5_test(movie_scores_mode)\n",
    "fig, ax = plt.subplots()\n",
    "ax.boxplot(movie_scores_mode)\n",
    "plt.show()"
   ]
  },
  {
   "attachments": {},
   "cell_type": "markdown",
   "metadata": {},
   "source": [
    "和剔除调缺失值相比，使用众数来替代缺失值Q1值发生了改变。由4.7变成了4.8"
   ]
  },
  {
   "cell_type": "code",
   "execution_count": 106,
   "metadata": {},
   "outputs": [
    {
     "name": "stdout",
     "output_type": "stream",
     "text": [
      "MIN: 1.100, Q1: 4.800, Mean: 5.700, Q3: 6.600, MAX: 9.900\n"
     ]
    },
    {
     "data": {
      "image/png": "[encoded data removed]",
      "text/plain": [
       "<matplotlib.figure.Figure at 0x7f3b35f16e80>"
      ]
     },
     "metadata": {
      "needs_background": "light"
     },
     "output_type": "display_data"
    }
   ],
   "source": [
    "# 通过属性的相关关系来填补空缺值\n",
    "# 我认为电影评分和电影的导演存在明显的相关关系，因此通过这个关系来填补空值\n",
    "\n",
    "id2dir = {id: director for id, director in zip(data['id'], data['director'])} \n",
    "dir2id = {}\n",
    "for id, dirctor in id2dir.items():\n",
    "    if dirctor not in dir2id.keys():\n",
    "        dir2id[dirctor] = []\n",
    "        dir2id[dirctor].append(id)\n",
    "    elif id not in dir2id[dirctor]:\n",
    "        dir2id[dirctor].append(id)\n",
    "\n",
    "id2score = {id: score for id, score in zip(data['id'], data['IMDb-rating']) if not math.isnan(score)}\n",
    "\n",
    "dir2score = {}\n",
    "# 统计导演的平均评分,如果没有成绩记作-1\n",
    "for dir, ids in dir2id.items():\n",
    "    score, cnt = 0, 0\n",
    "    for id in ids:\n",
    "        if id in id2score.keys():\n",
    "            score += id2score[id]\n",
    "            cnt += 1\n",
    "    if cnt == 0:\n",
    "        dir2score[dir] = -1\n",
    "    else:\n",
    "        dir2score[dir] = score/cnt\n",
    "\n",
    "movie_score_dir = []\n",
    "id_dict = {}\n",
    "for id, director, score in zip(data['id'], data['director'], data['IMDb-rating']):\n",
    "    if id in id_dict.keys():\n",
    "        continue\n",
    "    id_dict[id] = 0\n",
    "    if not math.isnan(score):\n",
    "        movie_score_dir.append(score)\n",
    "    elif dir2score[director] != -1:\n",
    "        movie_score_dir.append(dir2score[dir])\n",
    "Q5_test(movie_score_dir)  \n",
    "fig, ax = plt.subplots()\n",
    "ax.boxplot(movie_score_dir)\n",
    "plt.show()"
   ]
  },
  {
   "attachments": {},
   "cell_type": "markdown",
   "metadata": {},
   "source": [
    "上述方法中，如果某一部电影没有评分数据，如果电影的导演存在别的评分数据，则利用该导演所有电影的评分数据的平均分作为填充。和剔除相比，数据的Q3发生了变化，提高了0.1的评分。"
   ]
  },
  {
   "cell_type": "code",
   "execution_count": 109,
   "metadata": {},
   "outputs": [
    {
     "name": "stdout",
     "output_type": "stream",
     "text": [
      "MIN: 1.100, Q1: 4.800, Mean: 5.700, Q3: 6.500, MAX: 9.900\n"
     ]
    },
    {
     "data": {
      "image/png": "[encoded data removed]",
      "text/plain": [
       "<matplotlib.figure.Figure at 0x7f3b35f9a048>"
      ]
     },
     "metadata": {
      "needs_background": "light"
     },
     "output_type": "display_data"
    }
   ],
   "source": [
    "# 利用相似性来填补空缺值\n",
    "# 电影的相似性体现在多个方面，电影的导演、出产电影的公司等。因此利用电影的导演和电影的公司两个项目共同预测电影的评估。\n",
    "\n",
    "industry2score = {}\n",
    "id_dict = {}\n",
    "for industry, id, score in zip(data['industry'], data['id'], data['IMDb-rating']):\n",
    "    if id in id_dict.keys():\n",
    "        continue\n",
    "    id_dict[id] = 0\n",
    "    if not math.isnan(score):\n",
    "        if industry not in industry2score.keys():\n",
    "            industry2score[industry] = []\n",
    "        industry2score[industry].append(score)\n",
    "\n",
    "for industry, scores in industry2score.items():\n",
    "    if len(scores) > 0:\n",
    "        industry2score[industry] = sum(scores) / len(scores)\n",
    "    else:\n",
    "        industry2score[industry] = -1\n",
    "\n",
    "movie_score_dir_ind = []\n",
    "id_dict = {}\n",
    "for id, dir, ind, score in zip(data['id'], data['director'], data['industry'], data['IMDb-rating']):\n",
    "    if id in id_dict.keys():\n",
    "        continue\n",
    "    id_dict[id] = 0\n",
    "    if not math.isnan(score):\n",
    "        movie_score_dir_ind.append(score)\n",
    "    else:\n",
    "        if industry2score[ind] == -1 and dir2score[dir] == -1:\n",
    "            continue\n",
    "        score, cnt = 0, 0\n",
    "        if industry2score[ind] != -1:\n",
    "            score += industry2score[ind]\n",
    "            cnt += 1\n",
    "        if dir2score[dir] != -1:\n",
    "            score += dir2score[dir]\n",
    "            cnt += 1\n",
    "        score /= cnt\n",
    "        movie_score_dir_ind.append(score)\n",
    "Q5_test(movie_score_dir_ind)\n",
    "fig, ax = plt.subplots()\n",
    "ax.boxplot(movie_score_dir_ind)\n",
    "plt.show()"
   ]
  },
  {
   "attachments": {},
   "cell_type": "markdown",
   "metadata": {},
   "source": [
    "和只利用导演的平均分作为填充值比较，利用导演和工厂的平均分Q3提升了0.1。"
   ]
  }
 ],
 "metadata": {
  "kernelspec": {
   "display_name": "py36",
   "language": "python",
   "name": "python3"
  },
  "language_info": {
   "codemirror_mode": {
    "name": "ipython",
    "version": 3
   },
   "file_extension": ".py",
   "mimetype": "text/x-python",
   "name": "python",
   "nbconvert_exporter": "python",
   "pygments_lexer": "ipython3",
   "version": "3.6.5"
  },
  "orig_nbformat": 4
 },
 "nbformat": 4,
 "nbformat_minor": 2
}
