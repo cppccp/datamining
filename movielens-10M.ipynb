{
 "cells": [
  {
   "attachments": {},
   "cell_type": "markdown",
   "metadata": {},
   "source": [
    "# 包含3个文件\n",
    "ratings.csv：包含用户对电影的评分信息，每行代表一个用户对一个电影的评分。文件中包含以下字段：\n",
    "userId: 用户ID\n",
    "movieId: 电影ID\n",
    "rating: 用户对电影的评分，范围为0.5到5，以0.5为步长\n",
    "timestamp: 用户评分的时间戳，表示从1970年1月1日以来的秒数\n",
    "\n",
    "movies.csv：包含电影信息，每行代表一个电影。文件中包含以下字段：\n",
    "movieId: 电影ID\n",
    "title: 电影标题，包括电影名称和年份\n",
    "genres: 电影类型，以竖线分隔\n",
    "tags.csv：包含用户给电影打的标签信息，每行代表一个用户对一个电影打的一个标签。文件中包含以下字段：\n",
    "userId: 用户ID\n",
    "movieId: 电影ID\n",
    "tag: 用户打的标签\n",
    "timestamp: 标签打的时间戳"
   ]
  },
  {
   "cell_type": "code",
   "execution_count": 29,
   "metadata": {},
   "outputs": [
    {
     "name": "stdout",
     "output_type": "stream",
     "text": [
      "   userId  movieId  rating  timestamp\n",
      "0       1      122     5.0  838985046\n",
      "1       1      185     5.0  838983525\n",
      "   movieId             title                                       genres\n",
      "0        1  Toy Story (1995)  Adventure|Animation|Children|Comedy|Fantasy\n",
      "1        2    Jumanji (1995)                   Adventure|Children|Fantasy\n",
      "   userId  movieId         tag   timestamp\n",
      "0      15     4973  excellent!  1215184630\n",
      "1      20     1747    politics  1188263867\n"
     ]
    }
   ],
   "source": [
    "import warnings\n",
    "warnings.simplefilter(action='ignore', category=Warning)\n",
    "# 读取一个示例\n",
    "import pandas as pd\n",
    "sep = '::'\n",
    "rating = pd.read_csv('ratings.dat', header=None, sep=sep)  # 1 122 5 838985046\n",
    "movies = pd.read_csv('movies.dat', header=None, sep=sep)\n",
    "tags = pd.read_csv('tags.dat', header=None, sep=sep)\n",
    "# 设置标签\n",
    "rating.columns = ['userId', 'movieId', 'rating', 'timestamp']\n",
    "movies.columns = ['movieId', 'title', 'genres']\n",
    "tags.columns = ['userId', 'movieId', 'tag', 'timestamp']\n",
    "\n",
    "print(rating[:2])\n",
    "print(movies[:2])\n",
    "print(tags[:2])"
   ]
  },
  {
   "attachments": {},
   "cell_type": "markdown",
   "metadata": {},
   "source": [
    "# 3 数据分析要求\n",
    "## 3.1 数据摘要\n",
    "      标称属性，给出每个可能取值的频数\n",
    "      数值属性，给出5数概括及缺失值的个数\n",
    "\n",
    "## 3.2 数据可视化\n",
    "      使用直方图、盒图等检查数据分布及离群点"
   ]
  },
  {
   "cell_type": "code",
   "execution_count": 30,
   "metadata": {},
   "outputs": [
    {
     "name": "stdout",
     "output_type": "stream",
     "text": [
      "[(59269, 7359), (67385, 7047), (14463, 5169), (68259, 4483), (27468, 4449), (3817, 4165), (19635, 4165), (63134, 3755), (58357, 3697), (27584, 3479)]\n",
      "[(296, 34864), (356, 34457), (593, 33668), (480, 32631), (318, 31126), (110, 29154), (457, 28951), (589, 28948), (260, 28566), (150, 27035)]\n",
      "[('War of the Worlds (2005)', 2), ('Toy Story (1995)', 1), ('Jumanji (1995)', 1), ('Grumpier Old Men (1995)', 1), ('Waiting to Exhale (1995)', 1), ('Father of the Bride Part II (1995)', 1), ('Heat (1995)', 1), ('Sabrina (1995)', 1), ('Tom and Huck (1995)', 1), ('Sudden Death (1995)', 1)]\n",
      "[('Drama', 5339), ('Comedy', 3703), ('Thriller', 1706), ('Romance', 1685), ('Action', 1473), ('Crime', 1118), ('Adventure', 1025), ('Horror', 1013), ('Sci-Fi', 754), ('Fantasy', 543)]\n",
      "[(\"Tumey's DVDs\", 641), ('classic', 621), ('based on a book', 549), ('R', 518), ('less than 300 ratings', 505), ('Nudity (Topless)', 464), ('70mm', 464), (\"erlend's DVDs\", 405), ('Oscar (Best Picture)', 400), ('comedy', 396)]\n"
     ]
    }
   ],
   "source": [
    "# 标称有 userId, movieId, title, genres, tag\n",
    "from collections import Counter\n",
    "import itertools\n",
    "userIds = rating['userId']\n",
    "user_dict = Counter(userIds)\n",
    "print(user_dict.most_common()[:10]) # 打印出前10个出现最多的 userId 和 频率\n",
    "movieIds = rating['movieId']\n",
    "movie_dict = Counter(movieIds)\n",
    "print(movie_dict.most_common()[:10])  # 出现频率最高的 movieId\n",
    "title = movies['title']\n",
    "title_dict = Counter(title)\n",
    "print(title_dict.most_common()[:10]) # 出现频率前10 的movie title\n",
    "genres = itertools.chain(*[genres.split('|') for genres in movies['genres']]) # 对类型进行分割\n",
    "genres_dict = Counter(genres)\n",
    "print(genres_dict.most_common()[:10])  # 电影体裁频率前十\n",
    "tag = tags['tag']\n",
    "tag_dict = Counter(tag)\n",
    "print(tag_dict.most_common()[:10])  # 最多的标签"
   ]
  },
  {
   "cell_type": "code",
   "execution_count": 31,
   "metadata": {},
   "outputs": [
    {
     "name": "stdout",
     "output_type": "stream",
     "text": [
      "max: 5.0, Q3: 4.0, media: 4.0, Q1: 3.0, min: 0.5\n",
      "0 0 0\n"
     ]
    }
   ],
   "source": [
    "# 对数值属性进行5数概括\n",
    "# 对 rating 进行5数概括，并且找出缺失值\n",
    "ratings_list = rating['rating'].tolist()\n",
    "length = len(ratings_list)\n",
    "ratings_list.sort()\n",
    "n = length // 4\n",
    "media = ratings_list[length//2] if length & 1 else (ratings_list[length//2] + ratings_list[length//2-1]) / 2\n",
    "print(f'max: {ratings_list[-1]}, Q3: {ratings_list[-n]}, media: {media}, Q1: {ratings_list[n]}, min: {ratings_list[0]}')\n",
    "\n",
    "# 查找是否有缺失值\n",
    "# 1. 对rating进行查找\n",
    "def get_empty_cnt(data):\n",
    "    empty_cnt = 0\n",
    "    for line in rating.values:\n",
    "        for val in line:\n",
    "            if (not isinstance(val, float)) and len(val) == 0:\n",
    "                empty_cnt += 1\n",
    "    return empty_cnt\n",
    "\n",
    "rating_empty_cnt = get_empty_cnt(rating)\n",
    "movie_empty_cnt = get_empty_cnt(movies)\n",
    "tags_empty_cnt = get_empty_cnt(tags)\n",
    "\n",
    "print(rating_empty_cnt, movie_empty_cnt, tags_empty_cnt)\n"
   ]
  },
  {
   "cell_type": "code",
   "execution_count": 32,
   "metadata": {},
   "outputs": [
    {
     "name": "stdout",
     "output_type": "stream",
     "text": [
      "没有被评分过的电影数量：4\n",
      "电影ID: {60566, 62669, 25942, 64959}\n"
     ]
    }
   ],
   "source": [
    "# 统计是否所有的电影都有评分\n",
    "all_movies = set(movies['movieId'].tolist())\n",
    "movies_cnt = len(all_movies)\n",
    "movie2idx = {movie: i for movie, i in zip(all_movies, range(movies_cnt))}\n",
    "scores, cnts = [0.]*movies_cnt, [0]*movies_cnt  # 记录总分和数量\n",
    "for movieId, score in zip(rating['movieId'], rating['rating']):\n",
    "    scores[movie2idx[movieId]] += score\n",
    "    cnts[movie2idx[movieId]] += 1\n",
    "movie_without_rating_cnt = 0  # 没有评分历史的电影\n",
    "movies_without_rating = set()\n",
    "for movieId in all_movies:\n",
    "    if cnts[movie2idx[movieId]] == 0:\n",
    "        movies_without_rating.add(movieId)\n",
    "        movie_without_rating_cnt += 1\n",
    "print(f\"没有被评分过的电影数量：{movie_without_rating_cnt}\")\n",
    "print(f\"电影ID: {movies_without_rating}\")"
   ]
  },
  {
   "cell_type": "code",
   "execution_count": 33,
   "metadata": {},
   "outputs": [
    {
     "data": {
      "image/png": "[encoded data removed]",
      "text/plain": [
       "<matplotlib.figure.Figure at 0x7f8904ed52e8>"
      ]
     },
     "metadata": {
      "needs_background": "light"
     },
     "output_type": "display_data"
    }
   ],
   "source": [
    "# 用直方图来表示用户对电影评分的分布\n",
    "import matplotlib.pyplot as plt\n",
    "import numpy as np\n",
    "# 数据\n",
    "data = ratings_list\n",
    "\n",
    "# 画直方图\n",
    "bins = np.arange(0,5.5,0.5)\n",
    "plt.hist(data, bins=bins, edgecolor='black')\n",
    "\n",
    "# 设置标题和轴标签\n",
    "plt.title('Histogram of Data')\n",
    "plt.xlabel('Value')\n",
    "plt.ylabel('Frequency')\n",
    "# 显示图形\n",
    "plt.show()\n",
    "# "
   ]
  },
  {
   "cell_type": "code",
   "execution_count": 34,
   "metadata": {},
   "outputs": [
    {
     "data": {
      "image/png": "[encoded data removed]",
      "text/plain": [
       "<matplotlib.figure.Figure at 0x7f88c843f5f8>"
      ]
     },
     "metadata": {
      "needs_background": "light"
     },
     "output_type": "display_data"
    }
   ],
   "source": [
    "# 画盒图\n",
    "plt.boxplot(data)\n",
    "plt.show()"
   ]
  },
  {
   "cell_type": "code",
   "execution_count": 35,
   "metadata": {},
   "outputs": [],
   "source": [
    "# 统计每种体裁的电影的平均评分并且画图\n",
    "genres = itertools.chain(*[genres.split('|') for genres in movies['genres']]) # 对类型进行分割\n",
    "genres_set = set(genres)\n",
    "genres2idx = {g: i for i,g in enumerate(genres_set)}\n",
    "movieId2genres = {}\n",
    "genres_type = len(genres2idx)\n",
    "genres_score = [0.] * genres_type\n",
    "genres_cnt = [0] * genres_type\n",
    "for movieId, genres in zip(movies['movieId'], movies['genres']):\n",
    "    movieId2genres[movieId] = genres.split('|')\n",
    "for movieId, score in zip(rating['movieId'], rating['rating']):\n",
    "    gs = movieId2genres[movieId]\n",
    "    for g in gs:\n",
    "        genres_idx = genres2idx[g]\n",
    "        genres_score[genres_idx] += score\n",
    "        genres_cnt[genres_idx] += 1\n",
    "genres_avg_score = [score/cnt for score,cnt in zip(genres_score, genres_cnt)]\n",
    "genres_list = list(genres_set)\n",
    "ys = [genres_avg_score[genres2idx[genre]] for genre in genres_list]\n",
    "xs = genres_list\n",
    "ys, xs = zip(*sorted(zip(ys, xs), key=lambda x: x[0]))  # 按照评分进行排序"
   ]
  },
  {
   "cell_type": "code",
   "execution_count": 36,
   "metadata": {},
   "outputs": [
    {
     "name": "stdout",
     "output_type": "stream",
     "text": [
      "avg_score: [3.27, 3.4, 3.42, 3.42, 3.44, 3.49, 3.5, 3.51, 3.55, 3.56, 3.56, 3.6, 3.64, 3.67, 3.67, 3.68, 3.76, 3.78, 3.78, 4.01]\n"
     ]
    },
    {
     "data": {
      "image/png": "[encoded data removed]",
      "text/plain": [
       "<matplotlib.figure.Figure at 0x7f88c8dfe8d0>"
      ]
     },
     "metadata": {
      "needs_background": "light"
     },
     "output_type": "display_data"
    }
   ],
   "source": [
    "# 对每个体裁的电影画图表示其平均分\n",
    "fig, ax = plt.subplots(figsize=(25,5))\n",
    "ax.bar(range(len(xs)), ys)\n",
    "ax.set_xticks(range(len(xs)))\n",
    "ax.set_xticklabels(xs)\n",
    "print(f'avg_score: {[round(score, 2) for score in ys]}')\n",
    "plt.show()\n",
    "# 从下图中可以看到，Horror电影的评分最低，为3.27 Film_Noir的均分最高,为4.01"
   ]
  },
  {
   "attachments": {},
   "cell_type": "markdown",
   "metadata": {},
   "source": []
  },
  {
   "attachments": {},
   "cell_type": "markdown",
   "metadata": {},
   "source": [
    "# 3.2 数据缺失的处理\n",
    "观察数据集中缺失数据，分析其缺失的原因。分别使用下列四种策略对缺失值进行处理:\n",
    "将缺失部分剔除\n",
    "用最高频率值来填补缺失值\n",
    "通过属性的相关关系来填补缺失值\n",
    "通过数据对象之间的相似性来填补缺失值\n",
    "注意：在处理后完成，要对比新旧数据集的差异。"
   ]
  },
  {
   "cell_type": "code",
   "execution_count": 37,
   "metadata": {},
   "outputs": [
    {
     "name": "stdout",
     "output_type": "stream",
     "text": [
      "所有的用户数量是：69878\n",
      "所有的电影数量是: 10681\n",
      "共有10000054条评分数据, 缺失了736366864条数据，缺失比率是98.66016917968489%\n"
     ]
    }
   ],
   "source": [
    "# 统计所有用户的数量\n",
    "userId_set = set(rating['userId'].tolist())\n",
    "all_user_cnt = len(userId_set)\n",
    "print(f\"所有的用户数量是：{all_user_cnt}\")\n",
    "# 统计所有的电影的数量：\n",
    "print(f\"所有的电影数量是: {movies_cnt}\")\n",
    "# 构造评分矩阵，大小为用户的数量 * 电影的数量\n",
    "user_movie = [[],[]]\n",
    "user_movie_score = []\n",
    "for userId, movieId, score in zip(rating['userId'], rating['movieId'], rating['rating']):\n",
    "    user_movie[0].append(userId)\n",
    "    user_movie[1].append(movieId)\n",
    "    user_movie_score.append(score)\n",
    "record_cnt = len(user_movie_score)\n",
    "lack_comment_cnt = all_user_cnt * movies_cnt - len(user_movie_score)\n",
    "lack_rate = lack_comment_cnt / (all_user_cnt * movies_cnt) * 100\n",
    "print(f\"共有{record_cnt}条评分数据, 缺失了{lack_comment_cnt}条数据，缺失比率是{lack_rate}%\")\n"
   ]
  },
  {
   "attachments": {},
   "cell_type": "markdown",
   "metadata": {},
   "source": [
    "从上面的分析中可以看出，用户-电影的评分矩阵是一个非常稀疏的矩阵，其中大多数值为空值，这表示大多数用户只是看了少数电影，并没有对大多数的电影进行过评分。"
   ]
  },
  {
   "cell_type": "code",
   "execution_count": 38,
   "metadata": {},
   "outputs": [
    {
     "name": "stdout",
     "output_type": "stream",
     "text": [
      "评分最高的十部电影是:\n",
      "Satan's Tango (Sátántangó) (1994), 5.0\n",
      "Shadows of Forgotten Ancestors (1964), 5.0\n",
      "Fighting Elegy (Kenka erejii) (1966), 5.0\n",
      "Sun Alley (Sonnenallee) (1999), 5.0\n",
      "Blue Light, The (Das Blaue Licht) (1932), 5.0\n",
      "More (1998), 4.75\n",
      "Who's Singin' Over There? (a.k.a. Who Sings Over There) (Ko to tamo peva) (1980), 4.75\n",
      "Human Condition II, The (Ningen no joken II) (1959), 4.75\n",
      "Human Condition III, The (Ningen no joken III) (1961), 4.75\n",
      "Constantine's Sword (2007), 4.75\n"
     ]
    }
   ],
   "source": [
    "# 在剔除缺失值的情况下，找出评分最高的10部电影\n",
    "movieId2title = {}\n",
    "for movieId, title in zip(movies['movieId'], movies['title']):\n",
    "    movieId2title[movieId] = title\n",
    "\n",
    "from torch_scatter import scatter_mean\n",
    "import torch\n",
    "user_movie_score = torch.tensor(user_movie_score)\n",
    "user_movie = torch.tensor(user_movie)\n",
    "movie_avg_score = scatter_mean(src=user_movie_score, index=user_movie[1])\n",
    "movie_idxs = torch.arange(movie_avg_score.size(0))\n",
    "movie_avg_score, movie_idxs = zip(*sorted(zip(movie_avg_score, movie_idxs), key=lambda x: x[0], reverse=True))\n",
    "movie_title = [movieId2title[movieId.item()] for movieId in movie_idxs[:10]]\n",
    "print(\"评分最高的十部电影是:\")\n",
    "for i in range(10):\n",
    "    print('{}, {}'.format(movie_title[i], movie_avg_score[i]))"
   ]
  },
  {
   "cell_type": "code",
   "execution_count": 39,
   "metadata": {},
   "outputs": [],
   "source": [
    "# 采用最高频率来填充空值\n",
    "score_freq = [Counter() for i in range(movies_cnt)]\n",
    "for movieId, score in zip(user_movie[1], user_movie_score):\n",
    "    score_freq[movie2idx[movieId.item()]][score] += 1"
   ]
  },
  {
   "cell_type": "code",
   "execution_count": 40,
   "metadata": {},
   "outputs": [
    {
     "name": "stderr",
     "output_type": "stream",
     "text": [
      "100%|██████████| 10681/10681 [00:02<00:00, 3792.34it/s]\n"
     ]
    },
    {
     "name": "stdout",
     "output_type": "stream",
     "text": [
      "评分最高的十部电影是:\n",
      "Shadows of Forgotten Ancestors (1964), 5.0\n",
      "Satan's Tango (Sátántangó) (1994), 5.0\n",
      "Fighting Elegy (Kenka erejii) (1966), 5.0\n",
      "Sun Alley (Sonnenallee) (1999), 5.0\n",
      "Blue Light, The (Das Blaue Licht) (1932), 5.0\n",
      "Who's Singin' Over There? (a.k.a. Who Sings Over There) (Ko to tamo peva) (1980), 4.999985694885254\n",
      "Human Condition II, The (Ningen no joken II) (1959), 4.999985694885254\n",
      "Human Condition III, The (Ningen no joken III) (1961), 4.999985694885254\n",
      "Shanghai Express (1932), 4.999978542327881\n",
      "Life of Oharu, The (Saikaku ichidai onna) (1952), 4.999978542327881\n"
     ]
    }
   ],
   "source": [
    "idx2movie = {idx: movie for movie,idx in movie2idx.items()}\n",
    "\n",
    "from torch_scatter import scatter_sum\n",
    "from tqdm import tqdm\n",
    "movie_score_sum = scatter_sum(src=user_movie_score, index=user_movie[1])\n",
    "movie_score_cnt = scatter_sum(src=torch.ones_like(user_movie[0]), index=user_movie[1])\n",
    "\n",
    "new_scores = [0.] * movies_cnt\n",
    "for idx in tqdm(range(movies_cnt),total=movies_cnt):\n",
    "    most_freq = score_freq[idx].most_common()  # 出现最多的评分\n",
    "    most_common_score = 0\n",
    "    if len(most_freq) != 0: # 被评分过的电影\n",
    "        most_common_score = most_freq[0][0]\n",
    "    movie_idx = idx2movie[idx]\n",
    "    new_avg_score = most_common_score * (all_user_cnt - movie_score_cnt[movie_idx]) + movie_score_sum[movie_idx]\n",
    "    new_scores[idx] = new_avg_score / all_user_cnt\n",
    "\n",
    "new_scores = [new_scores[movie2idx[movie]] for movie in all_movies]\n",
    "movie_idxs, movies_new_score = zip(*sorted(zip(all_movies, new_scores), key=lambda x: x[1], reverse=True))\n",
    "movie_title = [movieId2title[movieId] for movieId in movie_idxs[:10]]\n",
    "\n",
    "print(\"评分最高的十部电影是:\")\n",
    "for i in range(10):\n",
    "    print('{}, {}'.format(movie_title[i], movies_new_score[i]))\n"
   ]
  },
  {
   "attachments": {},
   "cell_type": "markdown",
   "metadata": {},
   "source": [
    "可以看出，用众数替代空值之后，前10名的电影排名发生一些变化。"
   ]
  },
  {
   "cell_type": "code",
   "execution_count": 41,
   "metadata": {},
   "outputs": [
    {
     "name": "stderr",
     "output_type": "stream",
     "text": [
      "100%|██████████| 10681/10681 [00:00<00:00, 35491.19it/s]\n"
     ]
    },
    {
     "name": "stdout",
     "output_type": "stream",
     "text": [
      "评分最高的十部电影是:\n",
      "Shawshank Redemption, The (1994), 4.022471904754639\n",
      "Out of the Past (1947), 4.0134501457214355\n",
      "Big Knife, The (1955), 4.012068271636963\n",
      "Pickup on South Street (1953), 4.012059211730957\n",
      "Kiss Me Deadly (1955), 4.011995792388916\n",
      "Railroaded! (1947), 4.011919021606445\n",
      "Big Combo, The (1955), 4.011877059936523\n",
      "Scarlet Street (1945), 4.011768341064453\n",
      "Hitch-Hiker, The (1953), 4.011577606201172\n",
      "Force of Evil (1948), 4.0114827156066895\n"
     ]
    }
   ],
   "source": [
    "# 通过属性的相关关系来填补空缺值\n",
    "# 对于缺失的电影评分，认为电影的评分受到电影体裁的影响，因此用电影体裁的平均值替代空缺值。\n",
    "new_scores = [0.] * movies_cnt\n",
    "genres_avg_score = [score/cnt for score,cnt in zip(genres_score, genres_cnt)]\n",
    "\n",
    "for idx in tqdm(range(movies_cnt),total=movies_cnt):\n",
    "    movie_idx = idx2movie[idx]\n",
    "    gs = movieId2genres[movie_idx]\n",
    "    g_score = sum([genres_avg_score[genres2idx[g]] for g in gs]) / len(gs)  # 得到体裁的平均评分\n",
    "    new_avg_score = g_score * (all_user_cnt - movie_score_cnt[movie_idx]) + movie_score_sum[movie_idx]\n",
    "    new_scores[idx] = new_avg_score / all_user_cnt\n",
    "\n",
    "new_scores = [new_scores[movie2idx[movie]] for movie in all_movies]\n",
    "movie_idxs, movies_new_score = zip(*sorted(zip(all_movies, new_scores), key=lambda x: x[1], reverse=True))\n",
    "movie_title = [movieId2title[movieId] for movieId in movie_idxs[:10]]\n",
    "\n",
    "print(\"评分最高的十部电影是:\")\n",
    "for i in range(10):\n",
    "    print('{}, {}'.format(movie_title[i], movies_new_score[i]))"
   ]
  },
  {
   "attachments": {},
   "cell_type": "markdown",
   "metadata": {},
   "source": [
    "可以看出，由于存在大量的空值，使用电影的体裁类型评分作为空值会对原本的数据造成严重的破坏。如果存在电影的导演或者演员，通过导演或演员来进行关联预测可能是更好的方法。"
   ]
  },
  {
   "cell_type": "code",
   "execution_count": 42,
   "metadata": {},
   "outputs": [
    {
     "name": "stderr",
     "output_type": "stream",
     "text": [
      "100%|██████████| 10681/10681 [00:00<00:00, 38543.28it/s]\n"
     ]
    },
    {
     "name": "stdout",
     "output_type": "stream",
     "text": [
      "有标签的电影数量占比：71.1637%\n",
      "评分最高的十部电影是:\n",
      "Liebestraum (1991), 4.953886032104492\n",
      "Minnie and Moskowitz (1971), 4.587167263031006\n",
      "Attack the Gas Station! (Juyuso seubgyuksageun) (1999), 4.527066707611084\n",
      "Harrison's Flowers (2000), 4.526296138763428\n",
      "Taste of Others, The (Le Goût des autres) (2000), 4.492273330688477\n",
      "Johnson Family Vacation (2004), 4.263904571533203\n",
      "Godzilla vs. The Sea Monster (Gojira-Ebira-Mosura: Nankai no daiketto) (1966), 4.263794898986816\n",
      "Mating Habits of the Earthbound Human, The (1999), 4.263369083404541\n",
      "Perfect Score, The (2004), 4.261618614196777\n",
      "Inside Moves (1980), 4.194317817687988\n"
     ]
    }
   ],
   "source": [
    "# 通过数据对象之间的相似性来填补缺失值\n",
    "# 通过用户对电影的tag来进行评分\n",
    "import nltk\n",
    "from nltk.sentiment import SentimentIntensityAnalyzer\n",
    "\n",
    "sia = SentimentIntensityAnalyzer()\n",
    "\n",
    "def preprocess_word(word):\n",
    "    try:\n",
    "        word = word.lower()\n",
    "        ans = \"\"\n",
    "        for char in word:\n",
    "            if ord(char) >= ord('a') and ord(char) <= ord('z'):\n",
    "                ans += char\n",
    "    except:\n",
    "        return \"non\"\n",
    "    return ans\n",
    "\n",
    "word_list = list(set([preprocess_word(word) for word in tags['tag'].tolist()]))\n",
    "positive_score = [0.] * len(word_list)\n",
    "\n",
    "for i,word in enumerate(word_list):\n",
    "    positive_score[i] = sia.polarity_scores(word)['compound']\n",
    "\n",
    "# 把词性评分放缩了0-5之间\n",
    "mx_score = max(positive_score)\n",
    "mn_score = min(positive_score)\n",
    "r = (mx_score - mn_score) / 5\n",
    "positive_score = [(score - mn_score) / r for score in positive_score]\n",
    "\n",
    "word2idx = {word: idx for idx,word in enumerate(word_list)}\n",
    "\n",
    "movie_tag_score = [0.] *  movies_cnt\n",
    "movie_tag_cnt = [0] * movies_cnt\n",
    "for movieId, word in zip(tags['movieId'], tags['tag']):\n",
    "    word = preprocess_word(word)\n",
    "    movie_idx = movie2idx[movieId]\n",
    "    movie_tag_score[movie_idx] += positive_score[word2idx[word]]\n",
    "    movie_tag_cnt[movie_idx] += 1\n",
    "media_score = Counter(positive_score).most_common()[0][0]\n",
    "movie_tag_avg_score = [score/cnt if cnt>0 else media_score for score,cnt in zip(movie_tag_score, movie_tag_cnt)]\n",
    "avg_tag_score = sum(movie_tag_score) / sum(movie_tag_cnt)\n",
    "new_scores = [0.] * movies_cnt\n",
    "movie_has_tag_cnt = 0\n",
    "movie_without_tag_cnt = 0\n",
    "for idx in tqdm(range(movies_cnt),total=movies_cnt):\n",
    "    if movie_tag_cnt[idx] > 0:\n",
    "        movie_score = movie_tag_avg_score[idx]\n",
    "        movie_has_tag_cnt += 1\n",
    "    else:\n",
    "        movie_score = avg_tag_score\n",
    "        movie_without_tag_cnt += 1\n",
    "    movie_idx = idx2movie[idx]\n",
    "    new_avg_score = movie_score * (all_user_cnt - movie_score_cnt[movie_idx]) + movie_score_sum[movie_idx]\n",
    "    new_scores[idx] = new_avg_score / all_user_cnt\n",
    "print(f\"有标签的电影数量占比：{movie_has_tag_cnt/movies_cnt*100:.4f}%\")\n",
    "new_scores = [new_scores[movie2idx[movie]] for movie in all_movies]\n",
    "movie_idxs, movies_new_score = zip(*sorted(zip(all_movies, new_scores), key=lambda x: x[1], reverse=True))\n",
    "movie_title = [movieId2title[movieId] for movieId in movie_idxs[:10]]\n",
    "\n",
    "print(\"评分最高的十部电影是:\")\n",
    "for i in range(10):\n",
    "    print('{}, {}'.format(movie_title[i], movies_new_score[i]))"
   ]
  },
  {
   "attachments": {},
   "cell_type": "markdown",
   "metadata": {},
   "source": [
    "在上面的处理中我认为用户对电影的tag，比如excellent, bad等词也能反映一定的电影评分，因此通过利用nltk的词性积极性评分，得到每个tag的积极性得分，之后把该评分放缩为区间[0-5]填补空缺值，之后得到新的电影的评分。存在的问题是首先nltk可能对词性的把握不够准确，另一个问题是由于大量空缺值的存在，导致填补完所有的空缺值对结果的影响会很大，如果一个小众的电影因为少量极好的评价就可能导致电影的评分过高。"
   ]
  }
 ],
 "metadata": {
  "kernelspec": {
   "display_name": "py36",
   "language": "python",
   "name": "python3"
  },
  "language_info": {
   "codemirror_mode": {
    "name": "ipython",
    "version": 3
   },
   "file_extension": ".py",
   "mimetype": "text/x-python",
   "name": "python",
   "nbconvert_exporter": "python",
   "pygments_lexer": "ipython3",
   "version": "3.6.5"
  },
  "orig_nbformat": 4
 },
 "nbformat": 4,
 "nbformat_minor": 2
}
